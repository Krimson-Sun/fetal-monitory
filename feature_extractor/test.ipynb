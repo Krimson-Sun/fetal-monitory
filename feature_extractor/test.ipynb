{
 "cells": [
  {
   "cell_type": "code",
   "execution_count": 1,
   "id": "94e4dbfc",
   "metadata": {},
   "outputs": [],
   "source": [
    "from preprocessor import Preprocessor\n",
    "from collector import Collector"
   ]
  },
  {
   "cell_type": "code",
   "execution_count": 2,
   "id": "4e28f5d4",
   "metadata": {},
   "outputs": [],
   "source": [
    "preprocessor = Preprocessor()\n",
    "collector = Collector()"
   ]
  },
  {
   "cell_type": "code",
   "execution_count": 3,
   "id": "2df6f463",
   "metadata": {},
   "outputs": [],
   "source": [
    "from random import uniform\n",
    "\n",
    "time_sec = 0\n",
    "def gen_data():\n",
    "    global time_sec\n",
    "    time_sec += uniform(0, 0.5)\n",
    "    return {\n",
    "        'bpm_s': 120.0 + uniform(-30, 30) if uniform(0,1)>0.5 else None,\n",
    "        'uc_s': (50 + uniform(-30, 40)) if uniform(0,1)>0.5 else None,\n",
    "        'time_sec': time_sec\n",
    "    }"
   ]
  },
  {
   "cell_type": "code",
   "execution_count": 81,
   "id": "6b28e6b7",
   "metadata": {},
   "outputs": [
    {
     "name": "stdout",
     "output_type": "stream",
     "text": [
      "{'bpm_s': None, 'uc_s': None, 'time_sec': 431.51078454154384}\n",
      "{'stv': 11.18688575511956, 'ltv': 68.77039612074205, 'baseline_heart_rate': 118.20421108569596, 'accelerations': [], 'decelerations': [], 'contractions': [{'start': 8, 'end': 855, 'duration': 593.7498313419519, 'amplitude': 32.18329480805645}], 'stvs': array([7.16969823e+01, 2.73248141e+01, 9.58696298e+00, 1.97500616e+00,\n",
      "       7.11037840e+00, 1.18039791e+01, 8.99245580e+00, 5.59909090e+00,\n",
      "       2.40552966e+00, 3.53167286e-01, 4.55390473e+00, 1.09239996e+01,\n",
      "       6.00470447e+00, 1.53236155e+01, 3.63072073e+01, 3.05495206e+01,\n",
      "       6.86722229e+00, 1.40309047e+01, 2.25725996e+01, 1.26995083e+01,\n",
      "       5.02595232e+00, 1.32438869e+01, 2.70510961e+00, 1.23207523e+01,\n",
      "       1.37553306e+01, 1.11535164e+01, 7.55957018e+00, 9.02217677e+00,\n",
      "       2.26907742e+01, 1.32010996e+01, 6.40464989e+00, 1.73235104e+01,\n",
      "       1.91250000e+01, 1.16175169e+01, 9.86451398e+00, 2.69575282e+01,\n",
      "       2.10863014e+01, 3.97395345e+00, 6.92461670e+00, 6.51190232e+00,\n",
      "       7.07785379e-01, 2.22324887e+00, 9.27934635e-01, 6.58986831e+00,\n",
      "       1.29143682e+01, 1.24125116e+01, 2.61823411e+00, 1.78434465e+01,\n",
      "       1.75992890e+01, 8.24192575e+00, 1.36254609e-02, 5.97366907e+00,\n",
      "       7.76575141e+00, 1.04931149e+01, 1.60245522e+01, 1.27379894e+01,\n",
      "       2.23467142e+00, 7.89529786e+00, 1.46253293e+00, 3.44669166e+00,\n",
      "       4.82071152e+00, 4.29191749e+00, 6.17342169e+00, 1.42450256e+01,\n",
      "       9.02450425e+00, 2.99952657e+00, 1.00114569e+01, 1.44867648e+01,\n",
      "       1.83343660e+01, 1.69619492e+01, 7.18165921e+00, 5.74784720e+00,\n",
      "       1.78375719e+01, 2.20787210e+01, 1.67186626e+01, 4.98726545e+00,\n",
      "       9.86274590e+00, 1.75783090e+01, 1.18666525e+01, 2.40750233e+00,\n",
      "       3.24651307e+00, 2.00194543e+00, 3.43941300e+00, 5.52770029e+00,\n",
      "       1.94043114e+00, 1.37310737e+01, 1.85214781e+01, 1.36032384e+01,\n",
      "       1.49934209e+00, 9.48515159e+00, 1.58266011e+01, 1.35007865e+01,\n",
      "       8.00057042e+00, 4.23907902e+00, 2.45019958e+00, 1.31005864e+01,\n",
      "       1.57848859e+01, 3.93887564e+00, 5.12301623e+00, 3.81023057e+00,\n",
      "       4.46428739e+00, 1.10181653e+01, 1.19463505e+01, 5.08536249e+00,\n",
      "       8.66898609e+00, 2.60713454e+01, 2.56057614e+01, 1.10758079e+00,\n",
      "       2.47195357e+01, 2.01918127e+01, 6.28770087e+00, 3.41008922e+01]), 'stvs_window_duration': 3.68800753428717, 'ltvs': array([178.04256943,  75.44463063,  64.09150664,  66.20029678,\n",
      "        71.34049546,  53.09672278]), 'ltvs_window_duration': 59.93012243216651, 'total_decelerations': 0, 'late_decelerations': 0, 'late_deceleration_ratio': 0.0, 'total_accelerations': 0, 'accel_decel_ratio': 0, 'total_contractions': 1, 'stv_trend': -0.00798660038416131, 'bpm_trend': -5.51244416441881e-05, 'data_points': 908, 'time_span_sec': 430.6524039970008}\n"
     ]
    }
   ],
   "source": [
    "for i in range(1):\n",
    "    new_data = gen_data()\n",
    "    print(new_data)\n",
    "    collector.update_collector(new_data)\n",
    "    bpm_raw, uterus_raw = collector.get_data()\n",
    "    (bpm_filtered, uc_filtered, fs_bpm, fs_uterus) = preprocessor.filter_physiological_signals(bpm_raw, uterus_raw, fs_estimated=4.0)\n",
    "    print(preprocessor.compute_metrics(bpm_filtered, uc_filtered, fs_bpm, fs_uterus, True))"
   ]
  },
  {
   "cell_type": "code",
   "execution_count": 79,
   "id": "631a8ba9",
   "metadata": {},
   "outputs": [
    {
     "data": {
      "text/plain": [
       "(       time_sec       value\n",
       " 0      0.553434  139.089198\n",
       " 1      1.120291  128.708339\n",
       " 2      2.043001  149.062525\n",
       " 3      2.312428   93.328655\n",
       " 4      3.138284   90.936230\n",
       " ..          ...         ...\n",
       " 385  180.182723  142.124340\n",
       " 386  180.662462   90.934768\n",
       " 387  180.766912  144.492165\n",
       " 388  180.925575  124.707147\n",
       " 389  181.279911  123.840635\n",
       " \n",
       " [390 rows x 2 columns],\n",
       "        time_sec      value\n",
       " 0      0.827356  44.573893\n",
       " 1      1.871239  38.361952\n",
       " 2      2.043001  21.680629\n",
       " 3      2.778919  38.975366\n",
       " 4      3.599285  84.370861\n",
       " ..          ...        ...\n",
       " 361  179.925736  71.149584\n",
       " 362  180.662462  79.653223\n",
       " 363  180.766912  70.896441\n",
       " 364  181.279911  46.606796\n",
       " 365  181.672069  21.162685\n",
       " \n",
       " [366 rows x 2 columns])"
      ]
     },
     "execution_count": 79,
     "metadata": {},
     "output_type": "execute_result"
    }
   ],
   "source": [
    "collector.get_data()"
   ]
  }
 ],
 "metadata": {
  "kernelspec": {
   "display_name": "Python 3",
   "language": "python",
   "name": "python3"
  },
  "language_info": {
   "codemirror_mode": {
    "name": "ipython",
    "version": 3
   },
   "file_extension": ".py",
   "mimetype": "text/x-python",
   "name": "python",
   "nbconvert_exporter": "python",
   "pygments_lexer": "ipython3",
   "version": "3.10.11"
  }
 },
 "nbformat": 4,
 "nbformat_minor": 5
}
